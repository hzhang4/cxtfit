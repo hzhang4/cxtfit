{
 "cells": [
  {
   "cell_type": "code",
   "execution_count": 1,
   "id": "20ba6191-2d13-468e-be1f-9558e18f3eee",
   "metadata": {},
   "outputs": [],
   "source": [
    "import numpy as np\n",
    "from scipy.integrate import quad\n",
    "from scipy.special import erfc,erf"
   ]
  },
  {
   "cell_type": "code",
   "execution_count": 2,
   "id": "99471359-1bb8-40b0-8455-e21401d3be55",
   "metadata": {},
   "outputs": [],
   "source": [
    "def dbexp(x):\n",
    "    if x < -100:\n",
    "        return 0.0\n",
    "    elif x > 700:  # avoid overflow\n",
    "        return np.exp(700.0)\n",
    "    else:\n",
    "        return np.exp(x)\n",
    "\n",
    "def log_transform_integrand(func):\n",
    "    def transformed_func(x):\n",
    "        return dbexp(x) * func(dbexp(x))\n",
    "    return transformed_func\n",
    "\n",
    "def romb_quad(func, xmin, xmax, stoper=1.0e-9):\n",
    "    \"\"\"Perform Romberg integration on log-transformed interval using scipy quad\"\"\"\n",
    "    if xmin >= xmax:\n",
    "        return 0.0\n",
    "\n",
    "    xln1 = np.log(xmin)\n",
    "    xln2 = np.log(xmax)\n",
    "    transformed_func = log_transform_integrand(func)\n",
    "    \n",
    "    result, error = quad(transformed_func, xln1, xln2, epsabs=stoper)\n",
    "    return result"
   ]
  },
  {
   "cell_type": "code",
   "execution_count": 3,
   "id": "0e7626ac-1c32-4e93-9575-d5800e386472",
   "metadata": {},
   "outputs": [],
   "source": [
    "def romb(func, xmin, xmax, level=15, stoper = 1.0e-9):\n",
    "    \"\"\"Perform Romberg integration on log-transformed interval\"\"\"\n",
    "    if xmin >= xmax:\n",
    "        return 0.0\n",
    "\n",
    "    xln1 = np.log(xmin)\n",
    "    xln2 = np.log(xmax)\n",
    "    dx1 = xln2 - xln1\n",
    "    sum_val = 0.5 * xmin * func(xmin)\n",
    "    area = sum_val * dx1\n",
    "    r = np.zeros((level+1, level+1))\n",
    "    r[1, 1] = area\n",
    "    dx2 = dx1 / 2.0\n",
    "    inc = 1\n",
    "\n",
    "    for i in range(2, level+1):\n",
    "        xln = xln1 + dx2\n",
    "        for m in range(inc):\n",
    "            xe = dbexp(xln)\n",
    "            sum_val += xe * func(xe)\n",
    "            xln += dx1\n",
    "        area = sum_val * dx2\n",
    "        r[1, i] = area\n",
    "        for j in range(2, i + 1):\n",
    "            k = i + 1 - j\n",
    "            r[j, k] = (4.0 ** (j - 1) * r[j - 1, k + 1] - r[j - 1, k]) / (4.0 ** (j - 1) - 1)\n",
    "        if r[i, 1] > 0.0:\n",
    "            error = abs((r[i, 1] - r[i - 1, 2]) / r[i, 1])\n",
    "            if (error < stoper and i > 4)  :\n",
    "                return area\n",
    "            if (error < stoper * 100.0 and abs(area) < 1.0e-10):\n",
    "                return area\n",
    "        dx1 /= 2.0\n",
    "        dx2 /= 2.0\n",
    "        inc *= 2\n",
    "\n",
    "    return area"
   ]
  },
  {
   "cell_type": "code",
   "execution_count": 4,
   "id": "7054c272-b33e-4334-82af-221b76699686",
   "metadata": {},
   "outputs": [],
   "source": [
    "def chebylog(func, aa, bb, m = 100):\n",
    "    \"\"\"Perform integration of f(x) between a and b using M-point Gauss-Chebyshev quadrature formula\"\"\"\n",
    "    a = np.log(aa)\n",
    "    b = np.log(bb)\n",
    "\n",
    "    sum_val = 0.0\n",
    "    for i in range(1, m + 1):\n",
    "        z1 = np.cos((2 * (i - 1) + 1) * np.pi / (2 * m))\n",
    "        x1 = (z1 * (b - a) + b + a) / 2.0\n",
    "        dx1 = dbexp(x1)\n",
    "        sum_val += dx1 * func(dx1) * np.sqrt(1.0 - z1 * z1)\n",
    "\n",
    "    return (b - a) * np.pi * sum_val / (2 * m)\n"
   ]
  },
  {
   "cell_type": "code",
   "execution_count": 5,
   "id": "990e4c37-712c-42a1-ae53-7799991f95ec",
   "metadata": {},
   "outputs": [],
   "source": [
    "xmin = np.pi/8\n",
    "xmax = 2*np.pi\n",
    "result = romb_quad(erfc, xmin, xmax)"
   ]
  },
  {
   "cell_type": "code",
   "execution_count": 6,
   "id": "0719d9d8-13bb-442f-a475-d5a2750f3f89",
   "metadata": {},
   "outputs": [
    {
     "data": {
      "text/plain": [
       "0.25632652860603233"
      ]
     },
     "execution_count": 6,
     "metadata": {},
     "output_type": "execute_result"
    }
   ],
   "source": [
    "result"
   ]
  },
  {
   "cell_type": "code",
   "execution_count": 7,
   "id": "3495e24e-3897-4a2a-a8f7-09af41d87f72",
   "metadata": {},
   "outputs": [],
   "source": [
    "result = romb(erfc, xmin, xmax)"
   ]
  },
  {
   "cell_type": "code",
   "execution_count": 8,
   "id": "c83ecfbb-ad8b-49f1-afd4-5d1820051cdf",
   "metadata": {},
   "outputs": [
    {
     "data": {
      "text/plain": [
       "0.2563143126933558"
      ]
     },
     "execution_count": 8,
     "metadata": {},
     "output_type": "execute_result"
    }
   ],
   "source": [
    "result"
   ]
  },
  {
   "cell_type": "code",
   "execution_count": 9,
   "id": "72a3b47f-2ac2-4311-8156-099ebbf51e94",
   "metadata": {},
   "outputs": [],
   "source": [
    "result = chebylog(erfc, xmin, xmax)"
   ]
  },
  {
   "cell_type": "code",
   "execution_count": 10,
   "id": "fa560d3e-b6c8-4a24-9f11-b96cef3f8f88",
   "metadata": {},
   "outputs": [
    {
     "data": {
      "text/plain": [
       "0.2563394828798779"
      ]
     },
     "execution_count": 10,
     "metadata": {},
     "output_type": "execute_result"
    }
   ],
   "source": [
    "result"
   ]
  },
  {
   "cell_type": "code",
   "execution_count": 12,
   "id": "fc693d2b-d4c3-4183-8fae-317755659eb3",
   "metadata": {},
   "outputs": [],
   "source": [
    "result, error = quad(erfc, xmin, xmax)"
   ]
  },
  {
   "cell_type": "code",
   "execution_count": 13,
   "id": "5580c3d8-3aa1-46d1-8863-aa9bfb56d9ab",
   "metadata": {},
   "outputs": [
    {
     "data": {
      "text/plain": [
       "0.25632652860603233"
      ]
     },
     "execution_count": 13,
     "metadata": {},
     "output_type": "execute_result"
    }
   ],
   "source": [
    "result"
   ]
  },
  {
   "cell_type": "code",
   "execution_count": null,
   "id": "f54cbe79-bed9-4209-9c5b-21c620d0ad61",
   "metadata": {},
   "outputs": [],
   "source": []
  }
 ],
 "metadata": {
  "kernelspec": {
   "display_name": "Python 3 (ipykernel)",
   "language": "python",
   "name": "python3"
  },
  "language_info": {
   "codemirror_mode": {
    "name": "ipython",
    "version": 3
   },
   "file_extension": ".py",
   "mimetype": "text/x-python",
   "name": "python",
   "nbconvert_exporter": "python",
   "pygments_lexer": "ipython3",
   "version": "3.12.3"
  }
 },
 "nbformat": 4,
 "nbformat_minor": 5
}
