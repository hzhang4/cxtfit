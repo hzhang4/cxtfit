{
 "cells": [
  {
   "cell_type": "code",
   "execution_count": 1,
   "id": "de99e244-5c41-4f5f-967c-cccff2483db0",
   "metadata": {},
   "outputs": [],
   "source": [
    "import numpy as np\n",
    "from scipy.stats import lognorm\n",
    "import matplotlib.pyplot as plt"
   ]
  },
  {
   "cell_type": "code",
   "execution_count": 2,
   "id": "ab1f540f-38f9-478a-8182-87b752c7d57b",
   "metadata": {},
   "outputs": [],
   "source": [
    "def lsin(t):\n",
    "    c0 = np.sin(t) if 2 * np.pi <= t <= 3 * np.pi else 0\n",
    "    print(t, c0)\n",
    "    return c0"
   ]
  },
  {
   "cell_type": "code",
   "execution_count": 3,
   "id": "c5ec62a9-9b8d-450e-b5fb-85f935b182e9",
   "metadata": {},
   "outputs": [],
   "source": [
    "def limit2(func, aa, bb, ctol = 1.0e-10, ttol = 1.0e-3, miter = 20):\n",
    "    t0 = aa\n",
    "    t1 = bb\n",
    "\n",
    "    tstep = 1.0\n",
    "    if func(t0)  < ctol: \n",
    "        for _ in range(miter): # exponential search\n",
    "            t0 += tstep\n",
    "            if (func(t0) > ctol): \n",
    "                tmin = t0 - tstep\n",
    "                while t0 - tmin > ttol: # binary search\n",
    "                    tmid = 0.5 * (t0 + tmin)\n",
    "                    if func(tmid) > ctol:\n",
    "                        t0 = tmid\n",
    "                    else:\n",
    "                        tmin = tmid\n",
    "                break\n",
    "            tstep *= 2.0\n",
    "    \n",
    "    tstep = 1.0\n",
    "    if func(t1) < ctol:\n",
    "        for _ in range(miter): # exponential search\n",
    "            t1 -= tstep\n",
    "            if func(t1) > ctol: \n",
    "                tmax = t1 + tstep\n",
    "                while tmax - t1 > ttol: # binary search\n",
    "                    tmid = 0.5 * (t1 + tmax)\n",
    "                    if func(tmid) > ctol:\n",
    "                        t1 = tmid\n",
    "                    else:\n",
    "                        tmax = tmid\n",
    "                break\n",
    "            tstep *= 2.0\n",
    "\n",
    "    return t0, t1"
   ]
  },
  {
   "cell_type": "code",
   "execution_count": 4,
   "id": "d54828ab-6da7-46bf-b34f-c0a69e5fd6af",
   "metadata": {},
   "outputs": [
    {
     "name": "stdout",
     "output_type": "stream",
     "text": [
      "0 0\n",
      "1.0 0\n",
      "3.0 0\n",
      "7.0 0.6569865987187891\n",
      "5.0 0\n",
      "6.0 0\n",
      "6.5 0.21511998808781552\n",
      "6.25 0\n",
      "6.375 0.09168574849017776\n",
      "6.3125 0.029310494397997367\n",
      "6.28125 0\n",
      "6.296875 0.013689265232136597\n",
      "6.2890625 0.005877158986065068\n",
      "6.28515625 0.001970941544354566\n",
      "6.283203125 1.781782041258029e-05\n",
      "6.2822265625 0\n",
      "6.28271484375 0\n",
      "6.282958984375 0\n",
      "6.2830810546875 0\n",
      "6.28314208984375 0\n",
      "6.283172607421875 0\n",
      "6.2831878662109375 2.5590313510202817e-06\n",
      "6.283180236816406 0\n",
      "6.283184051513672 0\n",
      "6.283185958862305 6.516827182105286e-07\n",
      "6.283185005187988 0\n",
      "6.2831854820251465 1.7484556000744883e-07\n",
      "6.283185243606567 0\n",
      "6.283185362815857 5.563627045666843e-08\n",
      "6.283185303211212 0\n",
      "40 0\n",
      "39.0 0\n",
      "37.0 0\n",
      "33.0 0\n",
      "25.0 0\n",
      "9.0 0.4121184852417566\n",
      "17.0 0\n",
      "13.0 0\n",
      "11.0 0\n",
      "10.0 0\n",
      "9.5 0\n",
      "9.25 0.17388948538043356\n",
      "9.375 0.04975740630107862\n",
      "9.4375 0\n",
      "9.40625 0.01852690072471944\n",
      "9.421875 0.0029029566920853495\n",
      "9.4296875 0\n",
      "9.42578125 0\n",
      "9.423828125 0.0009498356265579848\n",
      "9.4248046875 0\n",
      "9.42431640625 0.0004615545029920243\n",
      "9.424560546875 0.0002174138926668997\n",
      "9.4246826171875 9.534358173526353e-05\n",
      "9.42474365234375 3.430842562298483e-05\n",
      "9.424774169921875 3.7908475047063083e-06\n",
      "9.424789428710938 0\n",
      "9.424781799316406 0\n",
      "9.42477798461914 0\n",
      "9.424776077270508 1.8834988719017742e-06\n",
      "9.424777030944824 9.298245554965039e-07\n",
      "9.424777507781982 4.5298739729349746e-07\n",
      "9.424777746200562 2.1456881819194878e-07\n",
      "9.424777865409851 9.535952864116904e-08\n",
      "9.424777925014496 3.5754883865778545e-08\n"
     ]
    },
    {
     "data": {
      "text/plain": [
       "(6.283185362815857, 9.424777925014496)"
      ]
     },
     "execution_count": 4,
     "metadata": {},
     "output_type": "execute_result"
    }
   ],
   "source": [
    "limit2(lsin,0, 40)"
   ]
  },
  {
   "cell_type": "code",
   "execution_count": null,
   "id": "ba2d1fa2-7e7c-4c93-b13c-7f08c69bf60a",
   "metadata": {},
   "outputs": [],
   "source": []
  }
 ],
 "metadata": {
  "kernelspec": {
   "display_name": "Python 3 (ipykernel)",
   "language": "python",
   "name": "python3"
  },
  "language_info": {
   "codemirror_mode": {
    "name": "ipython",
    "version": 3
   },
   "file_extension": ".py",
   "mimetype": "text/x-python",
   "name": "python",
   "nbconvert_exporter": "python",
   "pygments_lexer": "ipython3",
   "version": "3.12.3"
  }
 },
 "nbformat": 4,
 "nbformat_minor": 5
}
