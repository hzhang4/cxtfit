{
 "cells": [
  {
   "cell_type": "code",
   "execution_count": null,
   "id": "1899452c-d19a-4611-9ec8-6ad786ef8b02",
   "metadata": {},
   "outputs": [],
   "source": [
    "import numpy as np\n",
    "from scipy.special import i0,i1 #Modified Bessel functions\n",
    "from scipy.integrate import quad\n",
    "# from decimal import Decimal, getcontext\n",
    "# getcontext().prec = 5"
   ]
  },
  {
   "cell_type": "code",
   "execution_count": null,
   "id": "375b30be-24de-4cbf-a301-06ce7f2ae886",
   "metadata": {},
   "outputs": [],
   "source": [
    "# Using scipy.integrate.quad to calculate Goldstein's J-function J(a,b)\n",
    "def gold(a, b):\n",
    "    def f(x,b):\n",
    "        m1 = i0(2*np.sqrt(b*x))\n",
    "        return np.exp(-x)*m1\n",
    "\n",
    "    # Perform the integration\n",
    "    result, _ = quad(f, 0, a, args=(b,))\n",
    "    return 1 - np.exp(-b) * result"
   ]
  },
  {
   "cell_type": "code",
   "execution_count": null,
   "id": "6b071546-3ce9-4da3-99af-9b1a3ac2d579",
   "metadata": {},
   "outputs": [],
   "source": [
    "V = 20.0\n",
    "D = 10.0\n",
    "R = 5.0\n",
    "Beta = 0.44\n",
    "omega = 0.56\n",
    "Mu1  = 0.0\n",
    "Mu2  = 0.0\n",
    "\n",
    "Zl = 50.0"
   ]
  },
  {
   "cell_type": "code",
   "execution_count": null,
   "id": "ae1aaa95-07e3-4722-8e64-4ab36bab7a38",
   "metadata": {},
   "outputs": [],
   "source": [
    "P = V * Zl / D\n",
    "betr = Beta*R\n",
    "omegamu2 = omega+Mu2\n",
    "\n",
    "a = omega * omega / omegamu2 / betr\n",
    "b = omegamu2 / (R - betr)\n",
    "\n",
    "cx = omega / omegamu2\n",
    "\n",
    "da = omega * Mu2 / omegamu2"
   ]
  },
  {
   "cell_type": "code",
   "execution_count": null,
   "id": "ca229df2-47f7-4c97-9212-6cc8ad0f23ae",
   "metadata": {},
   "outputs": [],
   "source": [
    "def cc0(tau):\n",
    "    dg = np.exp(-Mu1 * tau / betr)\n",
    "    g1 = np.sqrt(betr * P / (4.0 * np.pi * tau))\n",
    "    g2 = np.exp(P * (betr * ZZ - tau) * (tau - betr * ZZ) / (4.0 * betr * tau))\n",
    "\n",
    "    return ZZ / tau * dg * g1 * g2"
   ]
  },
  {
   "cell_type": "code",
   "execution_count": null,
   "id": "defd5d6a-5a39-415d-8d04-2eaaaa1b7334",
   "metadata": {},
   "outputs": [],
   "source": [
    "def c1bj(tau,TTT):\n",
    "    \n",
    "    g1 = cc0(tau) \n",
    "    if g1 < 1e-7 :\n",
    "        return 0.0\n",
    "    at = a * tau\n",
    "    bt = b * (TTT - tau)\n",
    "    g2 = np.exp(-Mu2 * at / omega)\n",
    "    g3 = gold(at,bt)\n",
    "\n",
    "    return g1 * g2 *g3"
   ]
  },
  {
   "cell_type": "code",
   "execution_count": null,
   "id": "b0b4173c-320d-46b6-8e82-f2c68eb450e3",
   "metadata": {},
   "outputs": [],
   "source": [
    "def c2bj(tau,TTT):\n",
    "    g1 = cc0(tau) \n",
    "    if g1 < 1e-7 :\n",
    "        return 0.0\n",
    "    \n",
    "    at = a * tau\n",
    "    bt = b * (TTT - tau)\n",
    "    \n",
    "    g2 = np.exp(-Mu2 * at / omega)\n",
    "\n",
    "    g3 = 1.0 - gold(bt,at)\n",
    "\n",
    "    return cx * g1 * g2 * g3"
   ]
  },
  {
   "cell_type": "code",
   "execution_count": null,
   "id": "750b1fdd-fbc6-403e-a828-5ade85c075ee",
   "metadata": {},
   "outputs": [],
   "source": [
    "nt = 101 \n",
    "dt = 0.20\n",
    "\n",
    "# pulses = [{'conc': 1.0, 'time': 0.0}, {'conc': 0.0, 'time': 5.0}]\n",
    "npulse = 2\n",
    "cpulse = [1.0, 0.0]\n",
    "tpulse = [0.0, 5.0]\n",
    "\n",
    "tpulse = [i * V / Zl for i in tpulse]"
   ]
  },
  {
   "cell_type": "code",
   "execution_count": null,
   "id": "b79b90d4-a279-40d9-8a80-186c0629a6ce",
   "metadata": {},
   "outputs": [],
   "source": [
    "def bound():\n",
    "    if TT < 1e-7 :\n",
    "        return 0.0, 0.0\n",
    "    \n",
    "    TTT = TT\n",
    "    a1, _ = quad(c1bj, 0, TTT, args=(TTT,))\n",
    "    a2, _ = quad(c2bj, 0, TTT, args=(TTT,))\n",
    "    C1 = cpulse[0] * a1\n",
    "    C2 = cpulse[0] * a2\n",
    "    \n",
    "    for i in range(1,npulse) :\n",
    "        TTT = TTT - tpulse[i]\n",
    "        if TTT <= 0 :\n",
    "            return C1, C2\n",
    "        a1, _ = quad(c1bj, 0, TTT, args=(TTT,))\n",
    "        a2, _ = quad(c2bj, 0, TTT, args=(TTT,))\n",
    "        C1 = C1 + (cpulse[i] - cpulse[i - 1]) * a1\n",
    "        C2 = C2 + (cpulse[i] - cpulse[i - 1]) * a2\n",
    "    return C1, C2            "
   ]
  },
  {
   "cell_type": "code",
   "execution_count": null,
   "id": "82c7dd5e-6a97-48fe-a689-a657c2fea04b",
   "metadata": {
    "scrolled": true
   },
   "outputs": [],
   "source": [
    "ZZ = 1.0\n",
    "for i in range(nt):\n",
    "    TT = i * dt * V / Zl\n",
    "\n",
    "    C1, C2 = bound()\n",
    "    print(f\"{TT:.2f} {ZZ:.2f} {C1:.2E} {C2:.2E}\")"
   ]
  },
  {
   "cell_type": "code",
   "execution_count": null,
   "id": "0ca20ab9-38e7-41ae-b765-2adfe3be9403",
   "metadata": {},
   "outputs": [],
   "source": [
    "for i in range(1,npulse) :\n",
    "    print(cpulse[i],tpulse[i])\n"
   ]
  },
  {
   "cell_type": "code",
   "execution_count": null,
   "id": "16653125-c484-4691-a42e-a04a499a14df",
   "metadata": {},
   "outputs": [],
   "source": []
  },
  {
   "cell_type": "code",
   "execution_count": null,
   "id": "ba3c6cc4-bc9b-4669-9555-db3673b809b0",
   "metadata": {},
   "outputs": [],
   "source": []
  }
 ],
 "metadata": {
  "kernelspec": {
   "display_name": "Python 3 (ipykernel)",
   "language": "python",
   "name": "python3"
  },
  "language_info": {
   "codemirror_mode": {
    "name": "ipython",
    "version": 3
   },
   "file_extension": ".py",
   "mimetype": "text/x-python",
   "name": "python",
   "nbconvert_exporter": "python",
   "pygments_lexer": "ipython3",
   "version": "3.12.3"
  }
 },
 "nbformat": 4,
 "nbformat_minor": 5
}
